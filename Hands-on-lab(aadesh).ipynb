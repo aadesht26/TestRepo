{
 "cells": [
  {
   "cell_type": "code",
   "execution_count": 1,
   "id": "f1ac233c-388a-468d-bb38-7741b518291c",
   "metadata": {},
   "outputs": [],
   "source": [
    "url = \"https://cf-courses-data.s3.us.cloud-object-storage.appdomain.cloud/IBM-DA0321EN-SkillsNetwork/labs/datasets/Programming_Languages.html\""
   ]
  },
  {
   "cell_type": "code",
   "execution_count": 4,
   "id": "259e6004-dc5a-4983-9552-2e117b7c7e7d",
   "metadata": {},
   "outputs": [
    {
     "name": "stdout",
     "output_type": "stream",
     "text": [
      "Requirement already satisfied: requests in c:\\users\\rakesh\\appdata\\roaming\\python\\python313\\site-packages (2.32.4)\n",
      "Requirement already satisfied: charset_normalizer<4,>=2 in c:\\users\\rakesh\\appdata\\roaming\\python\\python313\\site-packages (from requests) (3.4.2)\n",
      "Requirement already satisfied: idna<4,>=2.5 in c:\\users\\rakesh\\appdata\\roaming\\python\\python313\\site-packages (from requests) (3.10)\n",
      "Requirement already satisfied: urllib3<3,>=1.21.1 in c:\\users\\rakesh\\appdata\\roaming\\python\\python313\\site-packages (from requests) (2.5.0)\n",
      "Requirement already satisfied: certifi>=2017.4.17 in c:\\users\\rakesh\\appdata\\roaming\\python\\python313\\site-packages (from requests) (2025.6.15)\n"
     ]
    }
   ],
   "source": [
    "!pip install requests\n",
    "from bs4 import BeautifulSoup\n",
    "import requests"
   ]
  },
  {
   "cell_type": "code",
   "execution_count": 5,
   "id": "6a320bbd-afe5-42f0-8170-5fa9ae98a974",
   "metadata": {},
   "outputs": [
    {
     "name": "stdout",
     "output_type": "stream",
     "text": [
      "Requirement already satisfied: html5lib in c:\\users\\rakesh\\anaconda3\\lib\\site-packages (1.1)\n",
      "Requirement already satisfied: six>=1.9 in c:\\users\\rakesh\\appdata\\roaming\\python\\python313\\site-packages (from html5lib) (1.17.0)\n",
      "Requirement already satisfied: webencodings in c:\\users\\rakesh\\appdata\\roaming\\python\\python313\\site-packages (from html5lib) (0.5.1)\n"
     ]
    }
   ],
   "source": [
    "!pip install html5lib"
   ]
  },
  {
   "cell_type": "code",
   "execution_count": 6,
   "id": "0a815e41-2720-4312-b708-54fbf3016739",
   "metadata": {},
   "outputs": [],
   "source": [
    "data  = requests.get(url).text"
   ]
  },
  {
   "cell_type": "code",
   "execution_count": 7,
   "id": "880bdd99-cd84-4bdf-83d3-2356ade0b1b2",
   "metadata": {},
   "outputs": [],
   "source": [
    "soup = BeautifulSoup(data,\"html5lib\")"
   ]
  },
  {
   "cell_type": "code",
   "execution_count": 8,
   "id": "4bf065e2-3753-44bf-a361-241656b60c1a",
   "metadata": {},
   "outputs": [
    {
     "name": "stdout",
     "output_type": "stream",
     "text": [
      "Language--->Created By--->Average Annual Salary--->Learning Difficulty\n",
      "Python--->Guido van Rossum--->$114,383--->Easy\n",
      "Java--->James Gosling--->$101,013--->Easy\n",
      "R--->Robert Gentleman, Ross Ihaka--->$92,037--->Hard\n",
      "Javascript--->Netscape--->$110,981--->Easy\n",
      "Swift--->Apple--->$130,801--->Easy\n",
      "C++--->Bjarne Stroustrup--->$113,865--->Hard\n",
      "C#--->Microsoft--->$88,726--->Hard\n",
      "PHP--->Rasmus Lerdorf--->$84,727--->Easy\n",
      "SQL--->Donald D. Chamberlin, Raymond F. Boyce.--->$84,793--->Easy\n",
      "Go--->Robert Griesemer, Ken Thompson, Rob Pike.--->$94,082--->Difficult\n"
     ]
    }
   ],
   "source": [
    "table = soup.find('table')\n",
    "for row in table.find_all('tr'): \n",
    "    # Get all columns in each row.\n",
    "    cols = row.find_all('td') \n",
    "    lang_name = cols[1].getText() \n",
    "    created_by=cols[2].getText()\n",
    "    annual_avg_sal = cols[3].getText() \n",
    "    learning=cols[4].getText()\n",
    "    print(\"{}--->{}--->{}--->{}\".format(lang_name,created_by,annual_avg_sal,learning))"
   ]
  },
  {
   "cell_type": "code",
   "execution_count": 10,
   "id": "aa6de4a1-99fc-4723-9f37-c8bdd893021a",
   "metadata": {},
   "outputs": [
    {
     "data": {
      "text/html": [
       "<div>\n",
       "<style scoped>\n",
       "    .dataframe tbody tr th:only-of-type {\n",
       "        vertical-align: middle;\n",
       "    }\n",
       "\n",
       "    .dataframe tbody tr th {\n",
       "        vertical-align: top;\n",
       "    }\n",
       "\n",
       "    .dataframe thead th {\n",
       "        text-align: right;\n",
       "    }\n",
       "</style>\n",
       "<table border=\"1\" class=\"dataframe\">\n",
       "  <thead>\n",
       "    <tr style=\"text-align: right;\">\n",
       "      <th></th>\n",
       "      <th>No.</th>\n",
       "      <th>Language</th>\n",
       "      <th>Created By</th>\n",
       "      <th>Average Annual Salary</th>\n",
       "      <th>Learning Difficulty</th>\n",
       "    </tr>\n",
       "  </thead>\n",
       "  <tbody>\n",
       "    <tr>\n",
       "      <th>1</th>\n",
       "      <td>1</td>\n",
       "      <td>Python</td>\n",
       "      <td>Guido van Rossum</td>\n",
       "      <td>$114,383</td>\n",
       "      <td>Easy</td>\n",
       "    </tr>\n",
       "    <tr>\n",
       "      <th>2</th>\n",
       "      <td>2</td>\n",
       "      <td>Java</td>\n",
       "      <td>James Gosling</td>\n",
       "      <td>$101,013</td>\n",
       "      <td>Easy</td>\n",
       "    </tr>\n",
       "    <tr>\n",
       "      <th>3</th>\n",
       "      <td>3</td>\n",
       "      <td>R</td>\n",
       "      <td>Robert Gentleman, Ross Ihaka</td>\n",
       "      <td>$92,037</td>\n",
       "      <td>Hard</td>\n",
       "    </tr>\n",
       "    <tr>\n",
       "      <th>4</th>\n",
       "      <td>4</td>\n",
       "      <td>Javascript</td>\n",
       "      <td>Netscape</td>\n",
       "      <td>$110,981</td>\n",
       "      <td>Easy</td>\n",
       "    </tr>\n",
       "    <tr>\n",
       "      <th>5</th>\n",
       "      <td>5</td>\n",
       "      <td>Swift</td>\n",
       "      <td>Apple</td>\n",
       "      <td>$130,801</td>\n",
       "      <td>Easy</td>\n",
       "    </tr>\n",
       "    <tr>\n",
       "      <th>6</th>\n",
       "      <td>6</td>\n",
       "      <td>C++</td>\n",
       "      <td>Bjarne Stroustrup</td>\n",
       "      <td>$113,865</td>\n",
       "      <td>Hard</td>\n",
       "    </tr>\n",
       "    <tr>\n",
       "      <th>7</th>\n",
       "      <td>7</td>\n",
       "      <td>C#</td>\n",
       "      <td>Microsoft</td>\n",
       "      <td>$88,726</td>\n",
       "      <td>Hard</td>\n",
       "    </tr>\n",
       "    <tr>\n",
       "      <th>8</th>\n",
       "      <td>8</td>\n",
       "      <td>PHP</td>\n",
       "      <td>Rasmus Lerdorf</td>\n",
       "      <td>$84,727</td>\n",
       "      <td>Easy</td>\n",
       "    </tr>\n",
       "    <tr>\n",
       "      <th>9</th>\n",
       "      <td>9</td>\n",
       "      <td>SQL</td>\n",
       "      <td>Donald D. Chamberlin, Raymond F. Boyce.</td>\n",
       "      <td>$84,793</td>\n",
       "      <td>Easy</td>\n",
       "    </tr>\n",
       "    <tr>\n",
       "      <th>10</th>\n",
       "      <td>10</td>\n",
       "      <td>Go</td>\n",
       "      <td>Robert Griesemer, Ken Thompson, Rob Pike.</td>\n",
       "      <td>$94,082</td>\n",
       "      <td>Difficult</td>\n",
       "    </tr>\n",
       "  </tbody>\n",
       "</table>\n",
       "</div>"
      ],
      "text/plain": [
       "   No.    Language                                 Created By  \\\n",
       "1    1      Python                           Guido van Rossum   \n",
       "2    2        Java                              James Gosling   \n",
       "3    3           R               Robert Gentleman, Ross Ihaka   \n",
       "4    4  Javascript                                   Netscape   \n",
       "5    5       Swift                                      Apple   \n",
       "6    6         C++                          Bjarne Stroustrup   \n",
       "7    7          C#                                  Microsoft   \n",
       "8    8         PHP                             Rasmus Lerdorf   \n",
       "9    9         SQL    Donald D. Chamberlin, Raymond F. Boyce.   \n",
       "10  10          Go  Robert Griesemer, Ken Thompson, Rob Pike.   \n",
       "\n",
       "   Average Annual Salary Learning Difficulty  \n",
       "1               $114,383                Easy  \n",
       "2               $101,013                Easy  \n",
       "3                $92,037                Hard  \n",
       "4               $110,981                Easy  \n",
       "5               $130,801                Easy  \n",
       "6               $113,865                Hard  \n",
       "7                $88,726                Hard  \n",
       "8                $84,727                Easy  \n",
       "9                $84,793                Easy  \n",
       "10               $94,082           Difficult  "
      ]
     },
     "execution_count": 10,
     "metadata": {},
     "output_type": "execute_result"
    }
   ],
   "source": [
    "import pandas as pd\n",
    "table = soup.find('table')\n",
    "table_rows = table.find_all('tr')\n",
    "l = []\n",
    "for tr in table_rows:\n",
    "    td = tr.find_all('td')\n",
    "    row = [tr.text for tr in td]\n",
    "    l.append(row)\n",
    "df=pd.DataFrame(l, columns=[\"No.\",\"Language\",\"Created By\",\"Average Annual Salary\",\"Learning Difficulty\"])\n",
    "df.drop(df.head(1).index, inplace=True)\n",
    "df"
   ]
  },
  {
   "cell_type": "code",
   "execution_count": null,
   "id": "c45e5d90-2c45-4b82-af9e-b7abd950eddd",
   "metadata": {},
   "outputs": [],
   "source": [
    "import pandas as pd\n",
    "df.to_csv('popular-language.csv')"
   ]
  }
 ],
 "metadata": {
  "kernelspec": {
   "display_name": "Python [conda env:base] *",
   "language": "python",
   "name": "conda-base-py"
  },
  "language_info": {
   "codemirror_mode": {
    "name": "ipython",
    "version": 3
   },
   "file_extension": ".py",
   "mimetype": "text/x-python",
   "name": "python",
   "nbconvert_exporter": "python",
   "pygments_lexer": "ipython3",
   "version": "3.13.5"
  }
 },
 "nbformat": 4,
 "nbformat_minor": 5
}
