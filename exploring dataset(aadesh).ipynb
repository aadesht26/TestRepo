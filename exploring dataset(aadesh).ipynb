{
  "metadata": {
    "kernelspec": {
      "name": "python",
      "display_name": "Python (Pyodide)",
      "language": "python"
    },
    "language_info": {
      "codemirror_mode": {
        "name": "python",
        "version": 3
      },
      "file_extension": ".py",
      "mimetype": "text/x-python",
      "name": "python",
      "nbconvert_exporter": "python",
      "pygments_lexer": "ipython3",
      "version": "3.8"
    }
  },
  "nbformat_minor": 5,
  "nbformat": 4,
  "cells": [
    {
      "id": "43ced5fc-55cf-481d-bbf9-b0e5ac68ed07",
      "cell_type": "code",
      "source": "import micropip\n\nawait micropip.install('pandas')\n\n# Import pandas after installation\nimport pandas as pd\nprint(pd.__version__)",
      "metadata": {
        "trusted": true
      },
      "outputs": [
        {
          "name": "stdout",
          "output_type": "stream",
          "text": "2.2.3\n"
        }
      ],
      "execution_count": 1
    },
    {
      "id": "b018543b-e472-45aa-9dc0-f490846f892b",
      "cell_type": "code",
      "source": "from pyodide.http import pyfetch\n\nasync def download(url, filename):\n    response = await pyfetch(url)\n    if response.status == 200:\n        with open(filename, \"wb\") as f:\n            f.write(await response.bytes())",
      "metadata": {
        "trusted": true
      },
      "outputs": [],
      "execution_count": 2
    },
    {
      "id": "71cfa7f2-cf3f-464e-8313-c16b7dee446f",
      "cell_type": "code",
      "source": "file_path = \"https://cf-courses-data.s3.us.cloud-object-storage.appdomain.cloud/n01PQ9pSmiRX6520flujwQ/survey-data.csv\"",
      "metadata": {
        "trusted": true
      },
      "outputs": [],
      "execution_count": 3
    },
    {
      "id": "874b5384-be74-4794-a8fc-01946af4fc5f",
      "cell_type": "code",
      "source": "await download(file_path, \"survey_data.csv\")\nfile_name=\"survey_data.csv\"",
      "metadata": {
        "trusted": true
      },
      "outputs": [],
      "execution_count": 5
    },
    {
      "id": "d0fa4f5a-7d4d-47b9-b1ac-81ec765627a0",
      "cell_type": "code",
      "source": "df = pd.read_csv(file_name)",
      "metadata": {
        "trusted": true
      },
      "outputs": [],
      "execution_count": 6
    },
    {
      "id": "26836d32-4247-4a3f-960a-86bffa7d883c",
      "cell_type": "code",
      "source": "import pandas as pd\n\n# Replace 'your_dataset.csv' with the actual filename\ndf = pd.read_csv(\"survey_data.csv\")",
      "metadata": {
        "trusted": true
      },
      "outputs": [],
      "execution_count": 7
    },
    {
      "id": "0f2a96e5-c3da-485d-8673-6fe02b2d4cbc",
      "cell_type": "code",
      "source": "df.head()",
      "metadata": {
        "trusted": true
      },
      "outputs": [
        {
          "execution_count": 8,
          "output_type": "execute_result",
          "data": {
            "text/plain": "   ResponseId                      MainBranch                 Age  \\\n0           1  I am a developer by profession  Under 18 years old   \n1           2  I am a developer by profession     35-44 years old   \n2           3  I am a developer by profession     45-54 years old   \n3           4           I am learning to code     18-24 years old   \n4           5  I am a developer by profession     18-24 years old   \n\n            Employment RemoteWork   Check  \\\n0  Employed, full-time     Remote  Apples   \n1  Employed, full-time     Remote  Apples   \n2  Employed, full-time     Remote  Apples   \n3   Student, full-time        NaN  Apples   \n4   Student, full-time        NaN  Apples   \n\n                                    CodingActivities  \\\n0                                              Hobby   \n1  Hobby;Contribute to open-source projects;Other...   \n2  Hobby;Contribute to open-source projects;Other...   \n3                                                NaN   \n4                                                NaN   \n\n                                             EdLevel  \\\n0                          Primary/elementary school   \n1       Bachelor’s degree (B.A., B.S., B.Eng., etc.)   \n2    Master’s degree (M.A., M.S., M.Eng., MBA, etc.)   \n3  Some college/university study without earning ...   \n4  Secondary school (e.g. American high school, G...   \n\n                                           LearnCode  \\\n0                             Books / Physical media   \n1  Books / Physical media;Colleague;On the job tr...   \n2  Books / Physical media;Colleague;On the job tr...   \n3  Other online resources (e.g., videos, blogs, f...   \n4  Other online resources (e.g., videos, blogs, f...   \n\n                                     LearnCodeOnline  ... JobSatPoints_6  \\\n0                                                NaN  ...            NaN   \n1  Technical documentation;Blogs;Books;Written Tu...  ...            0.0   \n2  Technical documentation;Blogs;Books;Written Tu...  ...            NaN   \n3  Stack Overflow;How-to videos;Interactive tutorial  ...            NaN   \n4  Technical documentation;Blogs;Written Tutorial...  ...            NaN   \n\n  JobSatPoints_7 JobSatPoints_8 JobSatPoints_9 JobSatPoints_10  \\\n0            NaN            NaN            NaN             NaN   \n1            0.0            0.0            0.0             0.0   \n2            NaN            NaN            NaN             NaN   \n3            NaN            NaN            NaN             NaN   \n4            NaN            NaN            NaN             NaN   \n\n  JobSatPoints_11           SurveyLength SurveyEase ConvertedCompYearly JobSat  \n0             NaN                    NaN        NaN                 NaN    NaN  \n1             0.0                    NaN        NaN                 NaN    NaN  \n2             NaN  Appropriate in length       Easy                 NaN    NaN  \n3             NaN               Too long       Easy                 NaN    NaN  \n4             NaN              Too short       Easy                 NaN    NaN  \n\n[5 rows x 114 columns]",
            "text/html": "<div>\n<style scoped>\n    .dataframe tbody tr th:only-of-type {\n        vertical-align: middle;\n    }\n\n    .dataframe tbody tr th {\n        vertical-align: top;\n    }\n\n    .dataframe thead th {\n        text-align: right;\n    }\n</style>\n<table border=\"1\" class=\"dataframe\">\n  <thead>\n    <tr style=\"text-align: right;\">\n      <th></th>\n      <th>ResponseId</th>\n      <th>MainBranch</th>\n      <th>Age</th>\n      <th>Employment</th>\n      <th>RemoteWork</th>\n      <th>Check</th>\n      <th>CodingActivities</th>\n      <th>EdLevel</th>\n      <th>LearnCode</th>\n      <th>LearnCodeOnline</th>\n      <th>...</th>\n      <th>JobSatPoints_6</th>\n      <th>JobSatPoints_7</th>\n      <th>JobSatPoints_8</th>\n      <th>JobSatPoints_9</th>\n      <th>JobSatPoints_10</th>\n      <th>JobSatPoints_11</th>\n      <th>SurveyLength</th>\n      <th>SurveyEase</th>\n      <th>ConvertedCompYearly</th>\n      <th>JobSat</th>\n    </tr>\n  </thead>\n  <tbody>\n    <tr>\n      <th>0</th>\n      <td>1</td>\n      <td>I am a developer by profession</td>\n      <td>Under 18 years old</td>\n      <td>Employed, full-time</td>\n      <td>Remote</td>\n      <td>Apples</td>\n      <td>Hobby</td>\n      <td>Primary/elementary school</td>\n      <td>Books / Physical media</td>\n      <td>NaN</td>\n      <td>...</td>\n      <td>NaN</td>\n      <td>NaN</td>\n      <td>NaN</td>\n      <td>NaN</td>\n      <td>NaN</td>\n      <td>NaN</td>\n      <td>NaN</td>\n      <td>NaN</td>\n      <td>NaN</td>\n      <td>NaN</td>\n    </tr>\n    <tr>\n      <th>1</th>\n      <td>2</td>\n      <td>I am a developer by profession</td>\n      <td>35-44 years old</td>\n      <td>Employed, full-time</td>\n      <td>Remote</td>\n      <td>Apples</td>\n      <td>Hobby;Contribute to open-source projects;Other...</td>\n      <td>Bachelor’s degree (B.A., B.S., B.Eng., etc.)</td>\n      <td>Books / Physical media;Colleague;On the job tr...</td>\n      <td>Technical documentation;Blogs;Books;Written Tu...</td>\n      <td>...</td>\n      <td>0.0</td>\n      <td>0.0</td>\n      <td>0.0</td>\n      <td>0.0</td>\n      <td>0.0</td>\n      <td>0.0</td>\n      <td>NaN</td>\n      <td>NaN</td>\n      <td>NaN</td>\n      <td>NaN</td>\n    </tr>\n    <tr>\n      <th>2</th>\n      <td>3</td>\n      <td>I am a developer by profession</td>\n      <td>45-54 years old</td>\n      <td>Employed, full-time</td>\n      <td>Remote</td>\n      <td>Apples</td>\n      <td>Hobby;Contribute to open-source projects;Other...</td>\n      <td>Master’s degree (M.A., M.S., M.Eng., MBA, etc.)</td>\n      <td>Books / Physical media;Colleague;On the job tr...</td>\n      <td>Technical documentation;Blogs;Books;Written Tu...</td>\n      <td>...</td>\n      <td>NaN</td>\n      <td>NaN</td>\n      <td>NaN</td>\n      <td>NaN</td>\n      <td>NaN</td>\n      <td>NaN</td>\n      <td>Appropriate in length</td>\n      <td>Easy</td>\n      <td>NaN</td>\n      <td>NaN</td>\n    </tr>\n    <tr>\n      <th>3</th>\n      <td>4</td>\n      <td>I am learning to code</td>\n      <td>18-24 years old</td>\n      <td>Student, full-time</td>\n      <td>NaN</td>\n      <td>Apples</td>\n      <td>NaN</td>\n      <td>Some college/university study without earning ...</td>\n      <td>Other online resources (e.g., videos, blogs, f...</td>\n      <td>Stack Overflow;How-to videos;Interactive tutorial</td>\n      <td>...</td>\n      <td>NaN</td>\n      <td>NaN</td>\n      <td>NaN</td>\n      <td>NaN</td>\n      <td>NaN</td>\n      <td>NaN</td>\n      <td>Too long</td>\n      <td>Easy</td>\n      <td>NaN</td>\n      <td>NaN</td>\n    </tr>\n    <tr>\n      <th>4</th>\n      <td>5</td>\n      <td>I am a developer by profession</td>\n      <td>18-24 years old</td>\n      <td>Student, full-time</td>\n      <td>NaN</td>\n      <td>Apples</td>\n      <td>NaN</td>\n      <td>Secondary school (e.g. American high school, G...</td>\n      <td>Other online resources (e.g., videos, blogs, f...</td>\n      <td>Technical documentation;Blogs;Written Tutorial...</td>\n      <td>...</td>\n      <td>NaN</td>\n      <td>NaN</td>\n      <td>NaN</td>\n      <td>NaN</td>\n      <td>NaN</td>\n      <td>NaN</td>\n      <td>Too short</td>\n      <td>Easy</td>\n      <td>NaN</td>\n      <td>NaN</td>\n    </tr>\n  </tbody>\n</table>\n<p>5 rows × 114 columns</p>\n</div>"
          },
          "metadata": {}
        }
      ],
      "execution_count": 8
    },
    {
      "id": "2e95ee05-ddfd-41d7-8192-e6855eaba3fd",
      "cell_type": "code",
      "source": "print(\"Number of rows:\", df.shape[0])",
      "metadata": {
        "trusted": true
      },
      "outputs": [
        {
          "name": "stdout",
          "output_type": "stream",
          "text": "Number of rows: 65437\n"
        }
      ],
      "execution_count": 9
    },
    {
      "id": "a1e2f7ce-8e3e-49ac-aab2-5208ab11a446",
      "cell_type": "code",
      "source": "print(\"Number of columns:\", df.shape[1])",
      "metadata": {
        "trusted": true
      },
      "outputs": [
        {
          "name": "stdout",
          "output_type": "stream",
          "text": "Number of columns: 114\n"
        }
      ],
      "execution_count": 10
    },
    {
      "id": "faf24219-cdd0-4499-9c25-4e576c3e7832",
      "cell_type": "code",
      "source": "print(df.dtypes)",
      "metadata": {
        "trusted": true
      },
      "outputs": [
        {
          "name": "stdout",
          "output_type": "stream",
          "text": "ResponseId               int64\nMainBranch              object\nAge                     object\nEmployment              object\nRemoteWork              object\n                        ...   \nJobSatPoints_11        float64\nSurveyLength            object\nSurveyEase              object\nConvertedCompYearly    float64\nJobSat                 float64\nLength: 114, dtype: object\n"
        }
      ],
      "execution_count": 11
    },
    {
      "id": "0a6481b7-1a60-4451-8b59-6d6b0de74a15",
      "cell_type": "code",
      "source": "# Convert Age to numeric, set errors='coerce' to convert invalid entries to NaN\ndf[\"Age\"] = pd.to_numeric(df[\"Age\"], errors='coerce')\n\n# Now compute the mean, ignoring NaN values\nprint(\"Mean age:\", df[\"Age\"].mean())",
      "metadata": {
        "trusted": true
      },
      "outputs": [
        {
          "name": "stdout",
          "output_type": "stream",
          "text": "Mean age: nan\n"
        }
      ],
      "execution_count": 13
    },
    {
      "id": "57a46171-30e7-4a10-97b6-e6564c612004",
      "cell_type": "code",
      "source": "print(\"Number of unique countries:\", df[\"Country\"].nunique())",
      "metadata": {
        "trusted": true
      },
      "outputs": [
        {
          "name": "stdout",
          "output_type": "stream",
          "text": "Number of unique countries: 185\n"
        }
      ],
      "execution_count": 14
    },
    {
      "id": "b1ba1cd3-b04e-4f3a-9511-2978eff0f7b6",
      "cell_type": "code",
      "source": "print(df.columns)",
      "metadata": {
        "trusted": true
      },
      "outputs": [],
      "execution_count": null
    }
  ]
}